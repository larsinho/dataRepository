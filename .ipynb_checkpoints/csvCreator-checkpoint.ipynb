{
 "cells": [
  {
   "cell_type": "code",
   "execution_count": 1,
   "metadata": {},
   "outputs": [],
   "source": [
    "import pandas as pd\n",
    "import numpy as np"
   ]
  },
  {
   "cell_type": "code",
   "execution_count": 25,
   "metadata": {},
   "outputs": [
    {
     "data": {
      "text/plain": [
       "Dato\n",
       "2015-04-21    69.089592\n",
       "2015-04-28    69.493840\n",
       "2015-05-05    66.737606\n",
       "2015-05-12    64.495869\n",
       "2015-05-19    66.994855\n",
       "Freq: W-TUE, Name: Siste, dtype: float64"
      ]
     },
     "execution_count": 25,
     "metadata": {},
     "output_type": "execute_result"
    }
   ],
   "source": [
    "# data from dn.no and \n",
    "# http://fishpool.eu/price-information/spot-prices/weekly-details/\n",
    "\n",
    "df_mowi_raw = pd.read_excel('mowi.xlsx', skiprows=[0,1])\n",
    "df_salm_raw = pd.read_excel('SalMar.xlsx', skiprows=[0,1])\n",
    "df_index = pd.read_excel('Weekly_details.xls', skiprows=[0])\n"
   ]
  },
  {
   "cell_type": "code",
   "execution_count": 26,
   "metadata": {},
   "outputs": [],
   "source": [
    "df_mowi_raw.index = pd.to_datetime(df_mowi_raw['Dato'], infer_datetime_format=True)\n",
    "df_mowi = df_mowi_raw['Siste'].resample('W-TUE').last().dropna()\n",
    "df_salm_raw.index = pd.to_datetime(df_salm_raw['Dato'], infer_datetime_format=True)\n",
    "df_salm = df_salm_raw['Siste'].resample('W-TUE').last().dropna()\n",
    "\n",
    "# ref: Nasdaq Salmon Index is published every Tuesday. "
   ]
  },
  {
   "cell_type": "code",
   "execution_count": 31,
   "metadata": {},
   "outputs": [
    {
     "data": {
      "text/html": [
       "<div>\n",
       "<style scoped>\n",
       "    .dataframe tbody tr th:only-of-type {\n",
       "        vertical-align: middle;\n",
       "    }\n",
       "\n",
       "    .dataframe tbody tr th {\n",
       "        vertical-align: top;\n",
       "    }\n",
       "\n",
       "    .dataframe thead th {\n",
       "        text-align: right;\n",
       "    }\n",
       "</style>\n",
       "<table border=\"1\" class=\"dataframe\">\n",
       "  <thead>\n",
       "    <tr style=\"text-align: right;\">\n",
       "      <th></th>\n",
       "      <th>Siste</th>\n",
       "      <th>Siste</th>\n",
       "    </tr>\n",
       "    <tr>\n",
       "      <th>Dato</th>\n",
       "      <th></th>\n",
       "      <th></th>\n",
       "    </tr>\n",
       "  </thead>\n",
       "  <tbody>\n",
       "    <tr>\n",
       "      <th>2015-04-21</th>\n",
       "      <td>69.089592</td>\n",
       "      <td>89.873494</td>\n",
       "    </tr>\n",
       "    <tr>\n",
       "      <th>2015-04-28</th>\n",
       "      <td>69.493840</td>\n",
       "      <td>92.111008</td>\n",
       "    </tr>\n",
       "    <tr>\n",
       "      <th>2015-05-05</th>\n",
       "      <td>66.737606</td>\n",
       "      <td>89.500575</td>\n",
       "    </tr>\n",
       "    <tr>\n",
       "      <th>2015-05-12</th>\n",
       "      <td>64.495869</td>\n",
       "      <td>85.771384</td>\n",
       "    </tr>\n",
       "    <tr>\n",
       "      <th>2015-05-19</th>\n",
       "      <td>66.994855</td>\n",
       "      <td>89.127656</td>\n",
       "    </tr>\n",
       "  </tbody>\n",
       "</table>\n",
       "</div>"
      ],
      "text/plain": [
       "                Siste      Siste\n",
       "Dato                            \n",
       "2015-04-21  69.089592  89.873494\n",
       "2015-04-28  69.493840  92.111008\n",
       "2015-05-05  66.737606  89.500575\n",
       "2015-05-12  64.495869  85.771384\n",
       "2015-05-19  66.994855  89.127656"
      ]
     },
     "execution_count": 31,
     "metadata": {},
     "output_type": "execute_result"
    }
   ],
   "source": [
    "\n",
    "df.head()"
   ]
  },
  {
   "cell_type": "code",
   "execution_count": null,
   "metadata": {},
   "outputs": [],
   "source": []
  },
  {
   "cell_type": "code",
   "execution_count": 49,
   "metadata": {},
   "outputs": [],
   "source": [
    "df_index = df_index[-len(df_salm.index):]\n",
    "df_index.index = df_salm.index"
   ]
  },
  {
   "cell_type": "code",
   "execution_count": 52,
   "metadata": {},
   "outputs": [],
   "source": [
    "\n",
    "df = pd.concat([df_mowi, df_salm], axis=1, join='outer').dropna()\n",
    "df = pd.concat([df, df_index['FPI NOK']], axis=1, join='outer').dropna()\n",
    "df.columns = ['df_mowi', 'df_salm', 'salmPrice']"
   ]
  },
  {
   "cell_type": "code",
   "execution_count": 53,
   "metadata": {},
   "outputs": [
    {
     "data": {
      "text/html": [
       "<div>\n",
       "<style scoped>\n",
       "    .dataframe tbody tr th:only-of-type {\n",
       "        vertical-align: middle;\n",
       "    }\n",
       "\n",
       "    .dataframe tbody tr th {\n",
       "        vertical-align: top;\n",
       "    }\n",
       "\n",
       "    .dataframe thead th {\n",
       "        text-align: right;\n",
       "    }\n",
       "</style>\n",
       "<table border=\"1\" class=\"dataframe\">\n",
       "  <thead>\n",
       "    <tr style=\"text-align: right;\">\n",
       "      <th></th>\n",
       "      <th>df_mowi</th>\n",
       "      <th>df_salm</th>\n",
       "      <th>salmPrice</th>\n",
       "    </tr>\n",
       "    <tr>\n",
       "      <th>Dato</th>\n",
       "      <th></th>\n",
       "      <th></th>\n",
       "      <th></th>\n",
       "    </tr>\n",
       "  </thead>\n",
       "  <tbody>\n",
       "    <tr>\n",
       "      <th>2015-04-21</th>\n",
       "      <td>69.089592</td>\n",
       "      <td>89.873494</td>\n",
       "      <td>41.18</td>\n",
       "    </tr>\n",
       "    <tr>\n",
       "      <th>2015-04-28</th>\n",
       "      <td>69.493840</td>\n",
       "      <td>92.111008</td>\n",
       "      <td>37.06</td>\n",
       "    </tr>\n",
       "    <tr>\n",
       "      <th>2015-05-05</th>\n",
       "      <td>66.737606</td>\n",
       "      <td>89.500575</td>\n",
       "      <td>35.89</td>\n",
       "    </tr>\n",
       "    <tr>\n",
       "      <th>2015-05-12</th>\n",
       "      <td>64.495869</td>\n",
       "      <td>85.771384</td>\n",
       "      <td>37.65</td>\n",
       "    </tr>\n",
       "    <tr>\n",
       "      <th>2015-05-19</th>\n",
       "      <td>66.994855</td>\n",
       "      <td>89.127656</td>\n",
       "      <td>35.69</td>\n",
       "    </tr>\n",
       "  </tbody>\n",
       "</table>\n",
       "</div>"
      ],
      "text/plain": [
       "              df_mowi    df_salm  salmPrice\n",
       "Dato                                       \n",
       "2015-04-21  69.089592  89.873494      41.18\n",
       "2015-04-28  69.493840  92.111008      37.06\n",
       "2015-05-05  66.737606  89.500575      35.89\n",
       "2015-05-12  64.495869  85.771384      37.65\n",
       "2015-05-19  66.994855  89.127656      35.69"
      ]
     },
     "execution_count": 53,
     "metadata": {},
     "output_type": "execute_result"
    }
   ],
   "source": [
    "df.to_csv('dataSalm.csv')"
   ]
  }
 ],
 "metadata": {
  "kernelspec": {
   "display_name": "Python 3",
   "language": "python",
   "name": "python3"
  },
  "language_info": {
   "codemirror_mode": {
    "name": "ipython",
    "version": 3
   },
   "file_extension": ".py",
   "mimetype": "text/x-python",
   "name": "python",
   "nbconvert_exporter": "python",
   "pygments_lexer": "ipython3",
   "version": "3.8.2"
  }
 },
 "nbformat": 4,
 "nbformat_minor": 4
}
