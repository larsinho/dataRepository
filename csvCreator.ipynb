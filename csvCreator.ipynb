{
 "cells": [
  {
   "cell_type": "code",
   "execution_count": 1,
   "metadata": {},
   "outputs": [],
   "source": [
    "import pandas as pd\n",
    "import numpy as np"
   ]
  },
  {
   "cell_type": "code",
   "execution_count": 91,
   "metadata": {},
   "outputs": [],
   "source": [
    "# data from dn.no and \n",
    "# http://fishpool.eu/price-information/spot-prices/weekly-details/\n",
    "\n",
    "df_mowi_raw = pd.read_excel('mowi.xlsx', skiprows=[0,1])\n",
    "df_salm_raw = pd.read_excel('SalMar.xlsx', skiprows=[0,1])\n",
    "df_salm_index_raw = pd.read_excel('Weekly_details.xls', skiprows=[0])\n"
   ]
  },
  {
   "cell_type": "code",
   "execution_count": 92,
   "metadata": {},
   "outputs": [],
   "source": [
    "df_mowi_raw.index = pd.to_datetime(df_mowi_raw['Dato'], infer_datetime_format=True)\n",
    "df_mowi = df_mowi_raw['Siste'].resample('W-TUE').last().dropna()\n",
    "df_salm_raw.index = pd.to_datetime(df_salm_raw['Dato'], infer_datetime_format=True)\n",
    "df_salm = df_salm_raw['Siste'].resample('W-TUE').last().dropna()\n",
    "\n",
    "# ref: Nasdaq Salmon Index is published every Tuesday. "
   ]
  },
  {
   "cell_type": "code",
   "execution_count": null,
   "metadata": {},
   "outputs": [],
   "source": []
  },
  {
   "cell_type": "code",
   "execution_count": 96,
   "metadata": {},
   "outputs": [
    {
     "name": "stdout",
     "output_type": "stream",
     "text": [
      "262\n"
     ]
    }
   ],
   "source": [
    "# remember to check to align index\n",
    "maxLen = len(df_salm.index) \n",
    "print(maxLen)"
   ]
  },
  {
   "cell_type": "code",
   "execution_count": 97,
   "metadata": {},
   "outputs": [],
   "source": [
    "maxLen = len(df_salm.index)\n",
    "df_salm_index = df_salm_index_raw[-maxLen:-1]\n",
    "df_salm_index.index = df_salm.index[-maxLen:-1]"
   ]
  },
  {
   "cell_type": "code",
   "execution_count": 98,
   "metadata": {},
   "outputs": [],
   "source": [
    "df = pd.concat([df_mowi[:-1], df_salm[:-1]], axis=1, join='outer').dropna()\n",
    "df = pd.concat([df, df_salm_index['FPI NOK']], axis=1, join='outer').dropna()\n",
    "df.columns = ['df_mowi', 'df_salm', 'salmPrice']"
   ]
  },
  {
   "cell_type": "code",
   "execution_count": 99,
   "metadata": {},
   "outputs": [],
   "source": [
    "df.to_csv('dataSalm.csv')"
   ]
  },
  {
   "cell_type": "code",
   "execution_count": 100,
   "metadata": {},
   "outputs": [
    {
     "data": {
      "text/plain": [
       "DatetimeIndex(['2015-04-21', '2015-04-28', '2015-05-05', '2015-05-12',\n",
       "               '2015-05-19', '2015-05-26', '2015-06-02', '2015-06-09',\n",
       "               '2015-06-16', '2015-06-23',\n",
       "               ...\n",
       "               '2020-02-11', '2020-02-18', '2020-02-25', '2020-03-03',\n",
       "               '2020-03-10', '2020-03-17', '2020-03-24', '2020-03-31',\n",
       "               '2020-04-07', '2020-04-14'],\n",
       "              dtype='datetime64[ns]', name='Dato', length=261, freq='W-TUE')"
      ]
     },
     "execution_count": 100,
     "metadata": {},
     "output_type": "execute_result"
    }
   ],
   "source": [
    "df_salm.index[-maxLen:-1]"
   ]
  },
  {
   "cell_type": "code",
   "execution_count": 103,
   "metadata": {},
   "outputs": [
    {
     "data": {
      "text/html": [
       "<div>\n",
       "<style scoped>\n",
       "    .dataframe tbody tr th:only-of-type {\n",
       "        vertical-align: middle;\n",
       "    }\n",
       "\n",
       "    .dataframe tbody tr th {\n",
       "        vertical-align: top;\n",
       "    }\n",
       "\n",
       "    .dataframe thead th {\n",
       "        text-align: right;\n",
       "    }\n",
       "</style>\n",
       "<table border=\"1\" class=\"dataframe\">\n",
       "  <thead>\n",
       "    <tr style=\"text-align: right;\">\n",
       "      <th></th>\n",
       "      <th>df_mowi</th>\n",
       "      <th>df_salm</th>\n",
       "      <th>salmPrice</th>\n",
       "    </tr>\n",
       "    <tr>\n",
       "      <th>Dato</th>\n",
       "      <th></th>\n",
       "      <th></th>\n",
       "      <th></th>\n",
       "    </tr>\n",
       "  </thead>\n",
       "  <tbody>\n",
       "    <tr>\n",
       "      <th>2020-03-17</th>\n",
       "      <td>176.00</td>\n",
       "      <td>382.4</td>\n",
       "      <td>67.82</td>\n",
       "    </tr>\n",
       "    <tr>\n",
       "      <th>2020-03-24</th>\n",
       "      <td>178.50</td>\n",
       "      <td>391.0</td>\n",
       "      <td>67.96</td>\n",
       "    </tr>\n",
       "    <tr>\n",
       "      <th>2020-03-31</th>\n",
       "      <td>158.65</td>\n",
       "      <td>347.4</td>\n",
       "      <td>59.68</td>\n",
       "    </tr>\n",
       "    <tr>\n",
       "      <th>2020-04-07</th>\n",
       "      <td>175.60</td>\n",
       "      <td>392.7</td>\n",
       "      <td>56.14</td>\n",
       "    </tr>\n",
       "    <tr>\n",
       "      <th>2020-04-14</th>\n",
       "      <td>180.55</td>\n",
       "      <td>406.5</td>\n",
       "      <td>53.79</td>\n",
       "    </tr>\n",
       "  </tbody>\n",
       "</table>\n",
       "</div>"
      ],
      "text/plain": [
       "            df_mowi  df_salm  salmPrice\n",
       "Dato                                   \n",
       "2020-03-17   176.00    382.4      67.82\n",
       "2020-03-24   178.50    391.0      67.96\n",
       "2020-03-31   158.65    347.4      59.68\n",
       "2020-04-07   175.60    392.7      56.14\n",
       "2020-04-14   180.55    406.5      53.79"
      ]
     },
     "execution_count": 103,
     "metadata": {},
     "output_type": "execute_result"
    }
   ],
   "source": [
    "df.tail()"
   ]
  },
  {
   "cell_type": "code",
   "execution_count": null,
   "metadata": {},
   "outputs": [],
   "source": []
  }
 ],
 "metadata": {
  "kernelspec": {
   "display_name": "Python 3",
   "language": "python",
   "name": "python3"
  },
  "language_info": {
   "codemirror_mode": {
    "name": "ipython",
    "version": 3
   },
   "file_extension": ".py",
   "mimetype": "text/x-python",
   "name": "python",
   "nbconvert_exporter": "python",
   "pygments_lexer": "ipython3",
   "version": "3.8.2"
  }
 },
 "nbformat": 4,
 "nbformat_minor": 4
}
